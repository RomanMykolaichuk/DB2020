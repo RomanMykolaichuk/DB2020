{
  "cells": [
    {
      "cell_type": "markdown",
      "metadata": {
        "id": "view-in-github",
        "colab_type": "text"
      },
      "source": [
        "<a href=\"https://colab.research.google.com/github/RomanMykolaichuk/DB2020/blob/master/cnn1.ipynb\" target=\"_parent\"><img src=\"https://colab.research.google.com/assets/colab-badge.svg\" alt=\"Open In Colab\"/></a>"
      ]
    },
    {
      "cell_type": "markdown",
      "metadata": {
        "id": "E7iE4rR_5wrf"
      },
      "source": [
        "# Mask detection CNN training"
      ]
    },
    {
      "cell_type": "code",
      "source": [
        "from google.colab import drive\n",
        "drive.mount('/content/drive')"
      ],
      "metadata": {
        "id": "sK9ZXt8z54MW",
        "outputId": "2a25f761-baa1-4a06-8724-92ff81a630e3",
        "colab": {
          "base_uri": "https://localhost:8080/"
        }
      },
      "execution_count": 4,
      "outputs": [
        {
          "output_type": "stream",
          "name": "stdout",
          "text": [
            "Mounted at /content/drive\n"
          ]
        }
      ]
    },
    {
      "cell_type": "code",
      "source": [
        "from distutils.dir_util import copy_tree\n",
        "copy_tree(\"/content/drive/MyDrive/data/mask1\", \"/content\")"
      ],
      "metadata": {
        "id": "A3Mg-Nwx7EgF",
        "outputId": "f658710a-4119-4f56-e3e0-3ea9a94b5f8e",
        "colab": {
          "base_uri": "https://localhost:8080/"
        }
      },
      "execution_count": 5,
      "outputs": [
        {
          "output_type": "execute_result",
          "data": {
            "text/plain": [
              "['/content/test/Mask_Mouth_Chin/905.jpg',\n",
              " '/content/test/Mask_Mouth_Chin/926.jpg',\n",
              " '/content/test/Mask_Mouth_Chin/904.jpg',\n",
              " '/content/test/Mask_Mouth_Chin/973.jpg',\n",
              " '/content/test/Mask_Mouth_Chin/902.jpg',\n",
              " '/content/test/Mask_Mouth_Chin/932.jpg',\n",
              " '/content/test/Mask_Mouth_Chin/955.jpg',\n",
              " '/content/test/Mask_Mouth_Chin/957.jpg',\n",
              " '/content/test/Mask_Mouth_Chin/976.jpg',\n",
              " '/content/test/Mask_Mouth_Chin/996.jpg',\n",
              " '/content/test/Mask_Mouth_Chin/882.jpg',\n",
              " '/content/test/Mask_Mouth_Chin/890.jpg',\n",
              " '/content/test/Mask_Mouth_Chin/856.jpg',\n",
              " '/content/test/Mask_Mouth_Chin/873.jpg',\n",
              " '/content/test/Mask_Mouth_Chin/909.jpg',\n",
              " '/content/test/Mask_Mouth_Chin/923.jpg',\n",
              " '/content/test/Mask_Mouth_Chin/997.jpg',\n",
              " '/content/test/Mask_Mouth_Chin/921.jpg',\n",
              " '/content/test/Mask_Mouth_Chin/946.jpg',\n",
              " '/content/test/Mask_Mouth_Chin/962.jpg',\n",
              " '/content/test/Mask_Mouth_Chin/948.jpg',\n",
              " '/content/test/Mask_Mouth_Chin/995.jpg',\n",
              " '/content/test/Mask_Mouth_Chin/980.jpg',\n",
              " '/content/test/Mask_Mouth_Chin/988.jpg',\n",
              " '/content/test/Mask_Mouth_Chin/960.jpg',\n",
              " '/content/test/Mask_Mouth_Chin/918.jpg',\n",
              " '/content/test/Mask_Mouth_Chin/945.jpg',\n",
              " '/content/test/Mask_Mouth_Chin/912.jpg',\n",
              " '/content/test/Mask_Mouth_Chin/961.jpg',\n",
              " '/content/test/Mask_Mouth_Chin/977.jpg',\n",
              " '/content/test/Mask_Mouth_Chin/968.jpg',\n",
              " '/content/test/Mask_Mouth_Chin/947.jpg',\n",
              " '/content/test/Mask_Mouth_Chin/919.jpg',\n",
              " '/content/test/Mask_Mouth_Chin/924.jpg',\n",
              " '/content/test/Mask_Mouth_Chin/985.jpg',\n",
              " '/content/test/Mask_Mouth_Chin/941.jpg',\n",
              " '/content/test/Mask_Mouth_Chin/994.jpg',\n",
              " '/content/test/Mask_Mouth_Chin/967.jpg',\n",
              " '/content/test/Mask_Mouth_Chin/949.jpg',\n",
              " '/content/test/Mask_Mouth_Chin/870.jpg',\n",
              " '/content/test/Mask_Mouth_Chin/864.jpg',\n",
              " '/content/test/Mask_Mouth_Chin/983.jpg',\n",
              " '/content/test/Mask_Mouth_Chin/916.jpg',\n",
              " '/content/test/Mask_Mouth_Chin/907.jpg',\n",
              " '/content/test/Mask_Mouth_Chin/858.jpg',\n",
              " '/content/test/Mask_Mouth_Chin/865.jpg',\n",
              " '/content/test/Mask_Mouth_Chin/855.jpg',\n",
              " '/content/test/Mask_Mouth_Chin/969.jpg',\n",
              " '/content/test/Mask_Mouth_Chin/991.jpg',\n",
              " '/content/test/Mask_Mouth_Chin/860.jpg',\n",
              " '/content/test/Mask_Mouth_Chin/931.jpg',\n",
              " '/content/test/Mask_Mouth_Chin/866.jpg',\n",
              " '/content/test/Mask_Mouth_Chin/953.jpg',\n",
              " '/content/test/Mask_Mouth_Chin/875.jpg',\n",
              " '/content/test/Mask_Mouth_Chin/884.jpg',\n",
              " '/content/test/Mask_Mouth_Chin/888.jpg',\n",
              " '/content/test/Mask_Mouth_Chin/885.jpg',\n",
              " '/content/test/Mask_Mouth_Chin/880.jpg',\n",
              " '/content/test/Mask_Mouth_Chin/894.jpg',\n",
              " '/content/test/Mask_Mouth_Chin/981.jpg',\n",
              " '/content/test/Mask_Mouth_Chin/879.jpg',\n",
              " '/content/test/Mask_Mouth_Chin/910.jpg',\n",
              " '/content/test/Mask_Mouth_Chin/920.jpg',\n",
              " '/content/test/Mask_Mouth_Chin/886.jpg',\n",
              " '/content/test/Mask_Mouth_Chin/959.jpg',\n",
              " '/content/test/Mask_Mouth_Chin/925.jpg',\n",
              " '/content/test/Mask_Mouth_Chin/939.jpg',\n",
              " '/content/test/Mask_Mouth_Chin/876.jpg',\n",
              " '/content/test/Mask_Mouth_Chin/974.jpg',\n",
              " '/content/test/Mask_Mouth_Chin/975.jpg',\n",
              " '/content/test/Mask_Mouth_Chin/971.jpg',\n",
              " '/content/test/Mask_Mouth_Chin/943.jpg',\n",
              " '/content/test/Mask_Mouth_Chin/872.jpg',\n",
              " '/content/test/Mask_Mouth_Chin/950.jpg',\n",
              " '/content/test/Mask_Mouth_Chin/964.jpg',\n",
              " '/content/test/Mask_Mouth_Chin/972.jpg',\n",
              " '/content/test/Mask_Mouth_Chin/982.jpg',\n",
              " '/content/test/Mask_Mouth_Chin/986.jpg',\n",
              " '/content/test/Mask_Mouth_Chin/863.jpg',\n",
              " '/content/test/Mask_Mouth_Chin/930.jpg',\n",
              " '/content/test/Mask_Mouth_Chin/987.jpg',\n",
              " '/content/test/Mask_Mouth_Chin/929.jpg',\n",
              " '/content/test/Mask_Mouth_Chin/942.jpg',\n",
              " '/content/test/Mask_Mouth_Chin/978.jpg',\n",
              " '/content/test/Mask_Mouth_Chin/951.jpg',\n",
              " '/content/test/Mask_Mouth_Chin/966.jpg',\n",
              " '/content/test/Mask_Mouth_Chin/893.jpg',\n",
              " '/content/test/Mask_Mouth_Chin/944.jpg',\n",
              " '/content/test/Mask_Mouth_Chin/927.jpg',\n",
              " '/content/test/Mask_Mouth_Chin/979.jpg',\n",
              " '/content/test/Mask_Mouth_Chin/892.jpg',\n",
              " '/content/test/Mask_Mouth_Chin/913.jpg',\n",
              " '/content/test/Mask_Mouth_Chin/846.jpg',\n",
              " '/content/test/Mask_Mouth_Chin/897.jpg',\n",
              " '/content/test/Mask_Mouth_Chin/993.jpg',\n",
              " '/content/test/Mask_Mouth_Chin/908.jpg',\n",
              " '/content/test/Mask_Mouth_Chin/999.jpg',\n",
              " '/content/test/Mask_Mouth_Chin/862.jpg',\n",
              " '/content/test/Mask_Mouth_Chin/896.jpg',\n",
              " '/content/test/Mask_Mouth_Chin/845.jpg',\n",
              " '/content/test/Mask_Mouth_Chin/852.jpg',\n",
              " '/content/test/Mask_Mouth_Chin/881.jpg',\n",
              " '/content/test/Mask_Mouth_Chin/984.jpg',\n",
              " '/content/test/Mask_Mouth_Chin/917.jpg',\n",
              " '/content/test/Mask_Mouth_Chin/915.jpg',\n",
              " '/content/test/Mask_Mouth_Chin/914.jpg',\n",
              " '/content/test/Mask_Mouth_Chin/958.jpg',\n",
              " '/content/test/Mask_Mouth_Chin/869.jpg',\n",
              " '/content/test/Mask_Mouth_Chin/933.jpg',\n",
              " '/content/test/Mask_Mouth_Chin/895.jpg',\n",
              " '/content/test/Mask_Mouth_Chin/891.jpg',\n",
              " '/content/test/Mask_Mouth_Chin/901.jpg',\n",
              " '/content/test/Mask_Mouth_Chin/936.jpg',\n",
              " '/content/test/Mask_Mouth_Chin/956.jpg',\n",
              " '/content/test/Mask_Mouth_Chin/938.jpg',\n",
              " '/content/test/Mask_Mouth_Chin/911.jpg',\n",
              " '/content/test/Mask_Mouth_Chin/935.jpg',\n",
              " '/content/test/Mask_Mouth_Chin/990.jpg',\n",
              " '/content/test/Mask_Mouth_Chin/861.jpg',\n",
              " '/content/test/Mask_Mouth_Chin/857.jpg',\n",
              " '/content/test/Mask_Mouth_Chin/952.jpg',\n",
              " '/content/test/Mask_Mouth_Chin/898.jpg',\n",
              " '/content/test/Mask_Mouth_Chin/934.jpg',\n",
              " '/content/test/Mask_Mouth_Chin/965.jpg',\n",
              " '/content/test/Mask_Mouth_Chin/906.jpg',\n",
              " '/content/test/Mask_Mouth_Chin/859.jpg',\n",
              " '/content/test/Mask_Mouth_Chin/887.jpg',\n",
              " '/content/test/Mask_Mouth_Chin/992.jpg',\n",
              " '/content/test/Mask_Mouth_Chin/878.jpg',\n",
              " '/content/test/Mask_Mouth_Chin/854.jpg',\n",
              " '/content/test/Mask_Mouth_Chin/853.jpg',\n",
              " '/content/test/Mask_Mouth_Chin/889.jpg',\n",
              " '/content/test/Mask_Mouth_Chin/867.jpg',\n",
              " '/content/test/Mask_Mouth_Chin/963.jpg',\n",
              " '/content/test/Mask_Mouth_Chin/899.jpg',\n",
              " '/content/test/Mask_Mouth_Chin/903.jpg',\n",
              " '/content/test/Mask_Mouth_Chin/900.jpg',\n",
              " '/content/test/Mask_Mouth_Chin/970.jpg',\n",
              " '/content/test/Mask_Mouth_Chin/883.jpg',\n",
              " '/content/test/Mask_Mouth_Chin/877.jpg',\n",
              " '/content/test/Mask_Mouth_Chin/874.jpg',\n",
              " '/content/test/Mask_Mouth_Chin/989.jpg',\n",
              " '/content/test/Mask_Mouth_Chin/922.jpg',\n",
              " '/content/test/Mask_Mouth_Chin/937.jpg',\n",
              " '/content/test/Mask_Mouth_Chin/998.jpg',\n",
              " '/content/test/Mask_Mouth_Chin/928.jpg',\n",
              " '/content/test/Mask_Mouth_Chin/868.jpg',\n",
              " '/content/test/Mask_Mouth_Chin/871.jpg',\n",
              " '/content/test/Mask_Mouth_Chin/940.jpg',\n",
              " '/content/test/Mask_Mouth_Chin/954.jpg',\n",
              " '/content/test/Mask_Chin/900.jpg',\n",
              " '/content/test/Mask_Chin/940.jpg',\n",
              " '/content/test/Mask_Chin/878.jpg',\n",
              " '/content/test/Mask_Chin/883.jpg',\n",
              " '/content/test/Mask_Chin/937.jpg',\n",
              " '/content/test/Mask_Chin/914.jpg',\n",
              " '/content/test/Mask_Chin/936.jpg',\n",
              " '/content/test/Mask_Chin/905.jpg',\n",
              " '/content/test/Mask_Chin/887.jpg',\n",
              " '/content/test/Mask_Chin/909.jpg',\n",
              " '/content/test/Mask_Chin/858.jpg',\n",
              " '/content/test/Mask_Chin/897.jpg',\n",
              " '/content/test/Mask_Chin/880.jpg',\n",
              " '/content/test/Mask_Chin/857.jpg',\n",
              " '/content/test/Mask_Chin/916.jpg',\n",
              " '/content/test/Mask_Chin/923.jpg',\n",
              " '/content/test/Mask_Chin/854.jpg',\n",
              " '/content/test/Mask_Chin/884.jpg',\n",
              " '/content/test/Mask_Chin/930.jpg',\n",
              " '/content/test/Mask_Chin/868.jpg',\n",
              " '/content/test/Mask_Chin/855.jpg',\n",
              " '/content/test/Mask_Chin/939.jpg',\n",
              " '/content/test/Mask_Chin/885.jpg',\n",
              " '/content/test/Mask_Chin/917.jpg',\n",
              " '/content/test/Mask_Chin/934.jpg',\n",
              " '/content/test/Mask_Chin/895.jpg',\n",
              " '/content/test/Mask_Chin/860.jpg',\n",
              " '/content/test/Mask_Chin/910.jpg',\n",
              " '/content/test/Mask_Chin/891.jpg',\n",
              " '/content/test/Mask_Chin/938.jpg',\n",
              " '/content/test/Mask_Chin/918.jpg',\n",
              " '/content/test/Mask_Chin/890.jpg',\n",
              " '/content/test/Mask_Chin/913.jpg',\n",
              " '/content/test/Mask_Chin/920.jpg',\n",
              " '/content/test/Mask_Chin/861.jpg',\n",
              " '/content/test/Mask_Chin/888.jpg',\n",
              " '/content/test/Mask_Chin/863.jpg',\n",
              " '/content/test/Mask_Chin/932.jpg',\n",
              " '/content/test/Mask_Chin/874.jpg',\n",
              " '/content/test/Mask_Chin/915.jpg',\n",
              " '/content/test/Mask_Chin/893.jpg',\n",
              " '/content/test/Mask_Chin/925.jpg',\n",
              " '/content/test/Mask_Chin/869.jpg',\n",
              " '/content/test/Mask_Chin/935.jpg',\n",
              " '/content/test/Mask_Chin/907.jpg',\n",
              " '/content/test/Mask_Chin/873.jpg',\n",
              " '/content/test/Mask_Chin/902.jpg',\n",
              " '/content/test/Mask_Chin/864.jpg',\n",
              " '/content/test/Mask_Chin/859.jpg',\n",
              " '/content/test/Mask_Chin/877.jpg',\n",
              " '/content/test/Mask_Chin/870.jpg',\n",
              " '/content/test/Mask_Chin/929.jpg',\n",
              " '/content/test/Mask_Chin/871.jpg',\n",
              " '/content/test/Mask_Chin/867.jpg',\n",
              " '/content/test/Mask_Chin/865.jpg',\n",
              " '/content/test/Mask_Chin/892.jpg',\n",
              " '/content/test/Mask_Chin/911.jpg',\n",
              " '/content/test/Mask_Chin/924.jpg',\n",
              " '/content/test/Mask_Chin/894.jpg',\n",
              " '/content/test/Mask_Chin/862.jpg',\n",
              " '/content/test/Mask_Chin/853.jpg',\n",
              " '/content/test/Mask_Chin/903.jpg',\n",
              " '/content/test/Mask_Chin/875.jpg',\n",
              " '/content/test/Mask_Chin/901.jpg',\n",
              " '/content/test/Mask_Chin/896.jpg',\n",
              " '/content/test/Mask_Chin/922.jpg',\n",
              " '/content/test/Mask_Chin/921.jpg',\n",
              " '/content/test/Mask_Chin/898.jpg',\n",
              " '/content/test/Mask_Chin/881.jpg',\n",
              " '/content/test/Mask_Chin/904.jpg',\n",
              " '/content/test/Mask_Chin/927.jpg',\n",
              " '/content/test/Mask_Chin/933.jpg',\n",
              " '/content/test/Mask_Chin/908.jpg',\n",
              " '/content/test/Mask_Chin/882.jpg',\n",
              " '/content/test/Mask_Chin/931.jpg',\n",
              " '/content/test/Mask_Chin/899.jpg',\n",
              " '/content/test/Mask_Chin/879.jpg',\n",
              " '/content/test/Mask_Chin/906.jpg',\n",
              " '/content/test/Mask_Chin/876.jpg',\n",
              " '/content/test/Mask_Chin/926.jpg',\n",
              " '/content/test/Mask_Chin/919.jpg',\n",
              " '/content/test/Mask_Chin/886.jpg',\n",
              " '/content/test/Mask_Chin/889.jpg',\n",
              " '/content/test/Mask_Chin/852.jpg',\n",
              " '/content/test/Mask_Chin/850.jpg',\n",
              " '/content/test/Mask_Chin/851.jpg',\n",
              " '/content/test/Mask_Chin/928.jpg',\n",
              " '/content/test/Mask_Chin/912.jpg',\n",
              " '/content/test/Mask_Chin/872.jpg',\n",
              " '/content/test/Mask_Chin/856.jpg',\n",
              " '/content/test/Mask_Chin/866.jpg',\n",
              " '/content/test/Mask_Chin/998.jpg',\n",
              " '/content/test/Mask_Chin/989.jpg',\n",
              " '/content/test/Mask_Chin/983.jpg',\n",
              " '/content/test/Mask_Chin/944.jpg',\n",
              " '/content/test/Mask_Chin/972.jpg',\n",
              " '/content/test/Mask_Chin/951.jpg',\n",
              " '/content/test/Mask_Chin/982.jpg',\n",
              " '/content/test/Mask_Chin/967.jpg',\n",
              " '/content/test/Mask_Chin/964.jpg',\n",
              " '/content/test/Mask_Chin/976.jpg',\n",
              " '/content/test/Mask_Chin/974.jpg',\n",
              " '/content/test/Mask_Chin/955.jpg',\n",
              " '/content/test/Mask_Chin/977.jpg',\n",
              " '/content/test/Mask_Chin/963.jpg',\n",
              " '/content/test/Mask_Chin/941.jpg',\n",
              " '/content/test/Mask_Chin/973.jpg',\n",
              " '/content/test/Mask_Chin/960.jpg',\n",
              " '/content/test/Mask_Chin/979.jpg',\n",
              " '/content/test/Mask_Chin/990.jpg',\n",
              " '/content/test/Mask_Chin/986.jpg',\n",
              " '/content/test/Mask_Chin/942.jpg',\n",
              " '/content/test/Mask_Chin/994.jpg',\n",
              " '/content/test/Mask_Chin/968.jpg',\n",
              " '/content/test/Mask_Chin/984.jpg',\n",
              " '/content/test/Mask_Chin/965.jpg',\n",
              " '/content/test/Mask_Chin/996.jpg',\n",
              " '/content/test/Mask_Chin/991.jpg',\n",
              " '/content/test/Mask_Chin/957.jpg',\n",
              " '/content/test/Mask_Chin/943.jpg',\n",
              " '/content/test/Mask_Chin/956.jpg',\n",
              " '/content/test/Mask_Chin/988.jpg',\n",
              " '/content/test/Mask_Chin/995.jpg',\n",
              " '/content/test/Mask_Chin/954.jpg',\n",
              " '/content/test/Mask_Chin/971.jpg',\n",
              " '/content/test/Mask_Chin/993.jpg',\n",
              " '/content/test/Mask_Chin/980.jpg',\n",
              " '/content/test/Mask_Chin/985.jpg',\n",
              " '/content/test/Mask_Chin/969.jpg',\n",
              " '/content/test/Mask_Chin/999.jpg',\n",
              " '/content/test/Mask_Chin/975.jpg',\n",
              " '/content/test/Mask_Chin/953.jpg',\n",
              " '/content/test/Mask_Chin/949.jpg',\n",
              " '/content/test/Mask_Chin/948.jpg',\n",
              " '/content/test/Mask_Chin/961.jpg',\n",
              " '/content/test/Mask_Chin/978.jpg',\n",
              " '/content/test/Mask_Chin/997.jpg',\n",
              " '/content/test/Mask_Chin/945.jpg',\n",
              " '/content/test/Mask_Chin/959.jpg',\n",
              " '/content/test/Mask_Chin/950.jpg',\n",
              " '/content/test/Mask_Chin/981.jpg',\n",
              " '/content/test/Mask_Chin/962.jpg',\n",
              " '/content/test/Mask_Chin/987.jpg',\n",
              " '/content/test/Mask_Chin/952.jpg',\n",
              " '/content/test/Mask_Chin/958.jpg',\n",
              " '/content/test/Mask_Chin/970.jpg',\n",
              " '/content/test/Mask_Chin/992.jpg',\n",
              " '/content/test/Mask_Chin/947.jpg',\n",
              " '/content/test/Mask_Chin/966.jpg',\n",
              " '/content/test/Mask_Chin/946.jpg',\n",
              " '/content/test/Without_Mask/1100.jpg',\n",
              " '/content/test/Without_Mask/1085.jpg',\n",
              " '/content/test/Without_Mask/998.jpg',\n",
              " '/content/test/Without_Mask/1009.jpg',\n",
              " '/content/test/Without_Mask/1083.jpg',\n",
              " '/content/test/Without_Mask/1104.jpg',\n",
              " '/content/test/Without_Mask/1032.jpg',\n",
              " '/content/test/Without_Mask/1117.jpg',\n",
              " '/content/test/Without_Mask/1049.jpg',\n",
              " '/content/test/Without_Mask/1088.jpg',\n",
              " '/content/test/Without_Mask/1124.jpg',\n",
              " '/content/test/Without_Mask/1087.jpg',\n",
              " '/content/test/Without_Mask/1072.jpg',\n",
              " '/content/test/Without_Mask/1056.jpg',\n",
              " '/content/test/Without_Mask/1038.jpg',\n",
              " '/content/test/Without_Mask/1109.jpg',\n",
              " '/content/test/Without_Mask/1121.jpg',\n",
              " '/content/test/Without_Mask/1024.jpg',\n",
              " '/content/test/Without_Mask/1013.jpg',\n",
              " '/content/test/Without_Mask/1050.jpg',\n",
              " '/content/test/Without_Mask/1059.jpg',\n",
              " '/content/test/Without_Mask/1079.jpg',\n",
              " '/content/test/Without_Mask/991.jpg',\n",
              " '/content/test/Without_Mask/1054.jpg',\n",
              " '/content/test/Without_Mask/1069.jpg',\n",
              " '/content/test/Without_Mask/1039.jpg',\n",
              " '/content/test/Without_Mask/1021.jpg',\n",
              " '/content/test/Without_Mask/1125.jpg',\n",
              " '/content/test/Without_Mask/1105.jpg',\n",
              " '/content/test/Without_Mask/1035.jpg',\n",
              " '/content/test/Without_Mask/1052.jpg',\n",
              " '/content/test/Without_Mask/1063.jpg',\n",
              " '/content/test/Without_Mask/1113.jpg',\n",
              " '/content/test/Without_Mask/1036.jpg',\n",
              " '/content/test/Without_Mask/1065.jpg',\n",
              " '/content/test/Without_Mask/1055.jpg',\n",
              " '/content/test/Without_Mask/1066.jpg',\n",
              " '/content/test/Without_Mask/1064.jpg',\n",
              " '/content/test/Without_Mask/999.jpg',\n",
              " '/content/test/Without_Mask/1097.jpg',\n",
              " '/content/test/Without_Mask/1008.jpg',\n",
              " '/content/test/Without_Mask/1020.jpg',\n",
              " '/content/test/Without_Mask/1023.jpg',\n",
              " '/content/test/Without_Mask/1103.jpg',\n",
              " '/content/test/Without_Mask/1082.jpg',\n",
              " '/content/test/Without_Mask/1123.jpg',\n",
              " '/content/test/Without_Mask/988.jpg',\n",
              " '/content/test/Without_Mask/1001.jpg',\n",
              " '/content/test/Without_Mask/1075.jpg',\n",
              " '/content/test/Without_Mask/1073.jpg',\n",
              " '/content/test/Without_Mask/1122.jpg',\n",
              " '/content/test/Without_Mask/1012.jpg',\n",
              " '/content/test/Without_Mask/1029.jpg',\n",
              " '/content/test/Without_Mask/1015.jpg',\n",
              " '/content/test/Without_Mask/1016.jpg',\n",
              " '/content/test/Without_Mask/995.jpg',\n",
              " '/content/test/Without_Mask/1014.jpg',\n",
              " '/content/test/Without_Mask/1007.jpg',\n",
              " '/content/test/Without_Mask/1098.jpg',\n",
              " '/content/test/Without_Mask/1047.jpg',\n",
              " '/content/test/Without_Mask/1114.jpg',\n",
              " '/content/test/Without_Mask/1019.jpg',\n",
              " '/content/test/Without_Mask/1108.jpg',\n",
              " '/content/test/Without_Mask/1115.jpg',\n",
              " '/content/test/Without_Mask/1040.jpg',\n",
              " '/content/test/Without_Mask/990.jpg',\n",
              " '/content/test/Without_Mask/1044.jpg',\n",
              " '/content/test/Without_Mask/1118.jpg',\n",
              " '/content/test/Without_Mask/1112.jpg',\n",
              " '/content/test/Without_Mask/1004.jpg',\n",
              " '/content/test/Without_Mask/1090.jpg',\n",
              " '/content/test/Without_Mask/1005.jpg',\n",
              " '/content/test/Without_Mask/1045.jpg',\n",
              " '/content/test/Without_Mask/1116.jpg',\n",
              " '/content/test/Without_Mask/1048.jpg',\n",
              " '/content/test/Without_Mask/1095.jpg',\n",
              " '/content/test/Without_Mask/1011.jpg',\n",
              " '/content/test/Without_Mask/1120.jpg',\n",
              " '/content/test/Without_Mask/996.jpg',\n",
              " '/content/test/Without_Mask/1042.jpg',\n",
              " '/content/test/Without_Mask/1041.jpg',\n",
              " '/content/test/Without_Mask/1053.jpg',\n",
              " '/content/test/Without_Mask/1018.jpg',\n",
              " '/content/test/Without_Mask/1000.jpg',\n",
              " '/content/test/Without_Mask/1058.jpg',\n",
              " '/content/test/Without_Mask/1062.jpg',\n",
              " '/content/test/Without_Mask/1061.jpg',\n",
              " '/content/test/Without_Mask/1093.jpg',\n",
              " '/content/test/Without_Mask/1002.jpg',\n",
              " '/content/test/Without_Mask/1080.jpg',\n",
              " '/content/test/Without_Mask/1110.jpg',\n",
              " '/content/test/Without_Mask/1043.jpg',\n",
              " '/content/test/Without_Mask/1068.jpg',\n",
              " '/content/test/Without_Mask/1060.jpg',\n",
              " '/content/test/Without_Mask/1025.jpg',\n",
              " '/content/test/Without_Mask/1081.jpg',\n",
              " '/content/test/Without_Mask/1037.jpg',\n",
              " '/content/test/Without_Mask/989.jpg',\n",
              " '/content/test/Without_Mask/1084.jpg',\n",
              " '/content/test/Without_Mask/1057.jpg',\n",
              " '/content/test/Without_Mask/986.jpg',\n",
              " '/content/test/Without_Mask/993.jpg',\n",
              " '/content/test/Without_Mask/1010.jpg',\n",
              " '/content/test/Without_Mask/1101.jpg',\n",
              " '/content/test/Without_Mask/1107.jpg',\n",
              " '/content/test/Without_Mask/1003.jpg',\n",
              " '/content/test/Without_Mask/1034.jpg',\n",
              " '/content/test/Without_Mask/1099.jpg',\n",
              " '/content/test/Without_Mask/1074.jpg',\n",
              " '/content/test/Without_Mask/1077.jpg',\n",
              " '/content/test/Without_Mask/1086.jpg',\n",
              " '/content/test/Without_Mask/1033.jpg',\n",
              " '/content/test/Without_Mask/1071.jpg',\n",
              " '/content/test/Without_Mask/1094.jpg',\n",
              " '/content/test/Without_Mask/1102.jpg',\n",
              " '/content/test/Without_Mask/1078.jpg',\n",
              " '/content/test/Without_Mask/1022.jpg',\n",
              " '/content/test/Without_Mask/1006.jpg',\n",
              " '/content/test/Without_Mask/992.jpg',\n",
              " '/content/test/Without_Mask/1017.jpg',\n",
              " '/content/test/Without_Mask/1027.jpg',\n",
              " '/content/test/Without_Mask/994.jpg',\n",
              " '/content/test/Without_Mask/1028.jpg',\n",
              " '/content/test/Without_Mask/1106.jpg',\n",
              " '/content/test/Without_Mask/997.jpg',\n",
              " '/content/test/Without_Mask/1067.jpg',\n",
              " '/content/test/Without_Mask/1089.jpg',\n",
              " '/content/test/Without_Mask/1070.jpg',\n",
              " '/content/test/Without_Mask/1031.jpg',\n",
              " '/content/test/Without_Mask/1030.jpg',\n",
              " '/content/test/Without_Mask/1091.jpg',\n",
              " '/content/test/Without_Mask/1092.jpg',\n",
              " '/content/test/Without_Mask/1051.jpg',\n",
              " '/content/test/Without_Mask/1026.jpg',\n",
              " '/content/test/Without_Mask/1096.jpg',\n",
              " '/content/test/Without_Mask/1111.jpg',\n",
              " '/content/test/Without_Mask/987.jpg',\n",
              " '/content/test/Without_Mask/1046.jpg',\n",
              " '/content/test/Without_Mask/1076.jpg',\n",
              " '/content/test/Mask_Nose_Mouth/592.jpg',\n",
              " '/content/test/Mask_Nose_Mouth/552.jpg',\n",
              " '/content/test/Mask_Nose_Mouth/562.jpg',\n",
              " '/content/test/Mask_Nose_Mouth/535.jpg',\n",
              " '/content/test/Mask_Nose_Mouth/547.jpg',\n",
              " '/content/test/Mask_Nose_Mouth/611.jpg',\n",
              " '/content/test/Mask_Nose_Mouth/532.jpg',\n",
              " '/content/test/Mask_Nose_Mouth/537.jpg',\n",
              " '/content/test/Mask_Nose_Mouth/586.jpg',\n",
              " '/content/test/Mask_Nose_Mouth/546.jpg',\n",
              " '/content/test/Mask_Nose_Mouth/554.jpg',\n",
              " '/content/test/Mask_Nose_Mouth/573.jpg',\n",
              " '/content/test/Mask_Nose_Mouth/572.jpg',\n",
              " '/content/test/Mask_Nose_Mouth/538.jpg',\n",
              " '/content/test/Mask_Nose_Mouth/549.jpg',\n",
              " '/content/test/Mask_Nose_Mouth/528.jpg',\n",
              " '/content/test/Mask_Nose_Mouth/577.jpg',\n",
              " '/content/test/Mask_Nose_Mouth/569.jpg',\n",
              " '/content/test/Mask_Nose_Mouth/553.jpg',\n",
              " '/content/test/Mask_Nose_Mouth/599.jpg',\n",
              " '/content/test/Mask_Nose_Mouth/612.jpg',\n",
              " '/content/test/Mask_Nose_Mouth/557.jpg',\n",
              " '/content/test/Mask_Nose_Mouth/560.jpg',\n",
              " '/content/test/Mask_Nose_Mouth/539.jpg',\n",
              " '/content/test/Mask_Nose_Mouth/556.jpg',\n",
              " '/content/test/Mask_Nose_Mouth/568.jpg',\n",
              " '/content/test/Mask_Nose_Mouth/559.jpg',\n",
              " '/content/test/Mask_Nose_Mouth/610.jpg',\n",
              " '/content/test/Mask_Nose_Mouth/565.jpg',\n",
              " '/content/test/Mask_Nose_Mouth/523.jpg',\n",
              " '/content/test/Mask_Nose_Mouth/550.jpg',\n",
              " '/content/test/Mask_Nose_Mouth/582.jpg',\n",
              " '/content/test/Mask_Nose_Mouth/614.jpg',\n",
              " '/content/test/Mask_Nose_Mouth/543.jpg',\n",
              " '/content/test/Mask_Nose_Mouth/597.jpg',\n",
              " '/content/test/Mask_Nose_Mouth/604.jpg',\n",
              " '/content/test/Mask_Nose_Mouth/585.jpg',\n",
              " '/content/test/Mask_Nose_Mouth/551.jpg',\n",
              " '/content/test/Mask_Nose_Mouth/527.jpg',\n",
              " '/content/test/Mask_Nose_Mouth/575.jpg',\n",
              " '/content/test/Mask_Nose_Mouth/598.jpg',\n",
              " '/content/test/Mask_Nose_Mouth/536.jpg',\n",
              " '/content/test/Mask_Nose_Mouth/590.jpg',\n",
              " '/content/test/Mask_Nose_Mouth/584.jpg',\n",
              " '/content/test/Mask_Nose_Mouth/606.jpg',\n",
              " '/content/test/Mask_Nose_Mouth/530.jpg',\n",
              " '/content/test/Mask_Nose_Mouth/587.jpg',\n",
              " '/content/test/Mask_Nose_Mouth/591.jpg',\n",
              " '/content/test/Mask_Nose_Mouth/525.jpg',\n",
              " '/content/test/Mask_Nose_Mouth/602.jpg',\n",
              " '/content/test/Mask_Nose_Mouth/563.jpg',\n",
              " '/content/test/Mask_Nose_Mouth/613.jpg',\n",
              " '/content/test/Mask_Nose_Mouth/596.jpg',\n",
              " '/content/test/Mask_Nose_Mouth/601.jpg',\n",
              " '/content/test/Mask_Nose_Mouth/548.jpg',\n",
              " '/content/test/Mask_Nose_Mouth/588.jpg',\n",
              " '/content/test/Mask_Nose_Mouth/544.jpg',\n",
              " '/content/test/Mask_Nose_Mouth/579.jpg',\n",
              " '/content/test/Mask_Nose_Mouth/574.jpg',\n",
              " '/content/test/Mask_Nose_Mouth/564.jpg',\n",
              " '/content/test/Mask_Nose_Mouth/561.jpg',\n",
              " '/content/test/Mask_Nose_Mouth/526.jpg',\n",
              " '/content/test/Mask_Nose_Mouth/576.jpg',\n",
              " '/content/test/Mask_Nose_Mouth/534.jpg',\n",
              " '/content/test/Mask_Nose_Mouth/571.jpg',\n",
              " '/content/test/Mask_Nose_Mouth/540.jpg',\n",
              " '/content/test/Mask_Nose_Mouth/566.jpg',\n",
              " '/content/test/Mask_Nose_Mouth/541.jpg',\n",
              " '/content/test/Mask_Nose_Mouth/581.jpg',\n",
              " '/content/test/Mask_Nose_Mouth/583.jpg',\n",
              " '/content/test/Mask_Nose_Mouth/578.jpg',\n",
              " '/content/test/Mask_Nose_Mouth/605.jpg',\n",
              " '/content/test/Mask_Nose_Mouth/593.jpg',\n",
              " '/content/test/Mask_Nose_Mouth/531.jpg',\n",
              " '/content/test/Mask_Nose_Mouth/555.jpg',\n",
              " '/content/test/Mask_Nose_Mouth/558.jpg',\n",
              " '/content/test/Mask_Nose_Mouth/524.jpg',\n",
              " '/content/test/Mask_Nose_Mouth/600.jpg',\n",
              " '/content/test/Mask_Nose_Mouth/567.jpg',\n",
              " '/content/test/Mask_Nose_Mouth/607.jpg',\n",
              " '/content/test/Mask_Nose_Mouth/542.jpg',\n",
              " '/content/test/Mask_Nose_Mouth/545.jpg',\n",
              " '/content/test/Mask_Nose_Mouth/608.jpg',\n",
              " '/content/test/Mask_Nose_Mouth/533.jpg',\n",
              " '/content/test/Mask_Nose_Mouth/595.jpg',\n",
              " '/content/test/Mask_Nose_Mouth/609.jpg',\n",
              " '/content/test/Mask_Nose_Mouth/594.jpg',\n",
              " '/content/test/Mask_Nose_Mouth/580.jpg',\n",
              " '/content/test/Mask_Nose_Mouth/603.jpg',\n",
              " '/content/test/Mask_Nose_Mouth/529.jpg',\n",
              " '/content/test/Mask_Nose_Mouth/522.jpg',\n",
              " '/content/test/Mask_Nose_Mouth/570.jpg',\n",
              " '/content/test/Mask_Nose_Mouth/589.jpg',\n",
              " '/content/test/Correct/887.jpg',\n",
              " '/content/test/Correct/930.jpg',\n",
              " '/content/test/Correct/959.jpg',\n",
              " '/content/test/Correct/941.jpg',\n",
              " '/content/test/Correct/958.jpg',\n",
              " '/content/test/Correct/899.jpg',\n",
              " '/content/test/Correct/972.jpg',\n",
              " '/content/test/Correct/929.jpg',\n",
              " '/content/test/Correct/911.jpg',\n",
              " '/content/test/Correct/927.jpg',\n",
              " '/content/test/Correct/946.jpg',\n",
              " '/content/test/Correct/858.jpg',\n",
              " '/content/test/Correct/973.jpg',\n",
              " '/content/test/Correct/891.jpg',\n",
              " '/content/test/Correct/923.jpg',\n",
              " '/content/test/Correct/903.jpg',\n",
              " '/content/test/Correct/900.jpg',\n",
              " '/content/test/Correct/971.jpg',\n",
              " '/content/test/Correct/905.jpg',\n",
              " '/content/test/Correct/944.jpg',\n",
              " '/content/test/Correct/918.jpg',\n",
              " '/content/test/Correct/924.jpg',\n",
              " '/content/test/Correct/964.jpg',\n",
              " '/content/test/Correct/952.jpg',\n",
              " '/content/test/Correct/979.jpg',\n",
              " '/content/test/Correct/995.jpg',\n",
              " '/content/test/Correct/997.jpg',\n",
              " '/content/test/Correct/862.jpg',\n",
              " '/content/test/Correct/947.jpg',\n",
              " '/content/test/Correct/948.jpg',\n",
              " '/content/test/Correct/936.jpg',\n",
              " '/content/test/Correct/921.jpg',\n",
              " '/content/test/Correct/866.jpg',\n",
              " '/content/test/Correct/976.jpg',\n",
              " '/content/test/Correct/872.jpg',\n",
              " '/content/test/Correct/863.jpg',\n",
              " '/content/test/Correct/870.jpg',\n",
              " '/content/test/Correct/931.jpg',\n",
              " '/content/test/Correct/965.jpg',\n",
              " '/content/test/Correct/961.jpg',\n",
              " '/content/test/Correct/883.jpg',\n",
              " '/content/test/Correct/898.jpg',\n",
              " '/content/test/Correct/859.jpg',\n",
              " '/content/test/Correct/868.jpg',\n",
              " '/content/test/Correct/894.jpg',\n",
              " '/content/test/Correct/884.jpg',\n",
              " '/content/test/Correct/907.jpg',\n",
              " '/content/test/Correct/951.jpg',\n",
              " '/content/test/Correct/981.jpg',\n",
              " '/content/test/Correct/876.jpg',\n",
              " '/content/test/Correct/993.jpg',\n",
              " '/content/test/Correct/955.jpg',\n",
              " '/content/test/Correct/860.jpg',\n",
              " '/content/test/Correct/857.jpg',\n",
              " '/content/test/Correct/943.jpg',\n",
              " '/content/test/Correct/937.jpg',\n",
              " '/content/test/Correct/902.jpg',\n",
              " '/content/test/Correct/954.jpg',\n",
              " '/content/test/Correct/940.jpg',\n",
              " '/content/test/Correct/984.jpg',\n",
              " '/content/test/Correct/988.jpg',\n",
              " '/content/test/Correct/996.jpg',\n",
              " '/content/test/Correct/987.jpg',\n",
              " '/content/test/Correct/962.jpg',\n",
              " '/content/test/Correct/904.jpg',\n",
              " '/content/test/Correct/992.jpg',\n",
              " '/content/test/Correct/982.jpg',\n",
              " '/content/test/Correct/990.jpg',\n",
              " '/content/test/Correct/989.jpg',\n",
              " '/content/test/Correct/938.jpg',\n",
              " '/content/test/Correct/915.jpg',\n",
              " '/content/test/Correct/985.jpg',\n",
              " '/content/test/Correct/877.jpg',\n",
              " '/content/test/Correct/895.jpg',\n",
              " '/content/test/Correct/890.jpg',\n",
              " '/content/test/Correct/855.jpg',\n",
              " '/content/test/Correct/893.jpg',\n",
              " '/content/test/Correct/901.jpg',\n",
              " '/content/test/Correct/969.jpg',\n",
              " '/content/test/Correct/878.jpg',\n",
              " '/content/test/Correct/968.jpg',\n",
              " '/content/test/Correct/879.jpg',\n",
              " '/content/test/Correct/956.jpg',\n",
              " '/content/test/Correct/854.jpg',\n",
              " '/content/test/Correct/933.jpg',\n",
              " '/content/test/Correct/913.jpg',\n",
              " '/content/test/Correct/888.jpg',\n",
              " '/content/test/Correct/928.jpg',\n",
              " '/content/test/Correct/908.jpg',\n",
              " '/content/test/Correct/975.jpg',\n",
              " '/content/test/Correct/999.jpg',\n",
              " '/content/test/Correct/917.jpg',\n",
              " '/content/test/Correct/939.jpg',\n",
              " '/content/test/Correct/909.jpg',\n",
              " '/content/test/Correct/892.jpg',\n",
              " '/content/test/Correct/916.jpg',\n",
              " '/content/test/Correct/978.jpg',\n",
              " '/content/test/Correct/950.jpg',\n",
              " '/content/test/Correct/920.jpg',\n",
              " '/content/test/Correct/945.jpg',\n",
              " '/content/test/Correct/957.jpg',\n",
              " '/content/test/Correct/963.jpg',\n",
              " '/content/test/Correct/875.jpg',\n",
              " '/content/test/Correct/998.jpg',\n",
              " '/content/test/Correct/850.jpg',\n",
              " '/content/test/Correct/991.jpg',\n",
              " '/content/test/Correct/867.jpg',\n",
              " '/content/test/Correct/953.jpg',\n",
              " '/content/test/Correct/869.jpg',\n",
              " '/content/test/Correct/942.jpg',\n",
              " '/content/test/Correct/980.jpg',\n",
              " '/content/test/Correct/882.jpg',\n",
              " '/content/test/Correct/966.jpg',\n",
              " '/content/test/Correct/949.jpg',\n",
              " '/content/test/Correct/910.jpg',\n",
              " '/content/test/Correct/977.jpg',\n",
              " '/content/test/Correct/925.jpg',\n",
              " '/content/test/Correct/852.jpg',\n",
              " '/content/test/Correct/865.jpg',\n",
              " '/content/test/Correct/897.jpg',\n",
              " '/content/test/Correct/853.jpg',\n",
              " '/content/test/Correct/974.jpg',\n",
              " '/content/test/Correct/967.jpg',\n",
              " '/content/test/Correct/960.jpg',\n",
              " '/content/test/Correct/986.jpg',\n",
              " '/content/test/Correct/919.jpg',\n",
              " '/content/test/Correct/896.jpg',\n",
              " '/content/test/Correct/889.jpg',\n",
              " '/content/test/Correct/914.jpg',\n",
              " '/content/test/Correct/864.jpg',\n",
              " '/content/test/Correct/922.jpg',\n",
              " '/content/test/Correct/880.jpg',\n",
              " '/content/test/Correct/885.jpg',\n",
              " '/content/test/Correct/912.jpg',\n",
              " '/content/test/Correct/934.jpg',\n",
              " '/content/test/Correct/873.jpg',\n",
              " '/content/test/Correct/994.jpg',\n",
              " '/content/test/Correct/861.jpg',\n",
              " '/content/test/Correct/874.jpg',\n",
              " '/content/test/Correct/851.jpg',\n",
              " '/content/test/Correct/935.jpg',\n",
              " '/content/test/Correct/983.jpg',\n",
              " '/content/test/Correct/970.jpg',\n",
              " '/content/test/Correct/856.jpg',\n",
              " '/content/test/Correct/926.jpg',\n",
              " '/content/test/Correct/886.jpg',\n",
              " '/content/test/Correct/906.jpg',\n",
              " '/content/test/Correct/881.jpg',\n",
              " '/content/test/Correct/932.jpg',\n",
              " '/content/test/Correct/871.jpg',\n",
              " '/content/train/Mask_Chin/171.jpg',\n",
              " '/content/train/Mask_Chin/432.jpg',\n",
              " '/content/train/Mask_Chin/388.jpg',\n",
              " '/content/train/Mask_Chin/437.jpg',\n",
              " '/content/train/Mask_Chin/160.jpg',\n",
              " '/content/train/Mask_Chin/393.jpg',\n",
              " '/content/train/Mask_Chin/352.jpg',\n",
              " '/content/train/Mask_Chin/379.jpg',\n",
              " '/content/train/Mask_Chin/110.jpg',\n",
              " '/content/train/Mask_Chin/105.jpg',\n",
              " '/content/train/Mask_Chin/106.jpg',\n",
              " '/content/train/Mask_Chin/453.jpg',\n",
              " '/content/train/Mask_Chin/236.jpg',\n",
              " '/content/train/Mask_Chin/274.jpg',\n",
              " '/content/train/Mask_Chin/374.jpg',\n",
              " '/content/train/Mask_Chin/238.jpg',\n",
              " '/content/train/Mask_Chin/245.jpg',\n",
              " '/content/train/Mask_Chin/212.jpg',\n",
              " '/content/train/Mask_Chin/175.jpg',\n",
              " '/content/train/Mask_Chin/123.jpg',\n",
              " '/content/train/Mask_Chin/28.jpg',\n",
              " '/content/train/Mask_Chin/343.jpg',\n",
              " '/content/train/Mask_Chin/129.jpg',\n",
              " '/content/train/Mask_Chin/357.jpg',\n",
              " '/content/train/Mask_Chin/313.jpg',\n",
              " '/content/train/Mask_Chin/131.jpg',\n",
              " '/content/train/Mask_Chin/382.jpg',\n",
              " '/content/train/Mask_Chin/21.jpg',\n",
              " '/content/train/Mask_Chin/122.jpg',\n",
              " '/content/train/Mask_Chin/361.jpg',\n",
              " '/content/train/Mask_Chin/286.jpg',\n",
              " '/content/train/Mask_Chin/279.jpg',\n",
              " '/content/train/Mask_Chin/125.jpg',\n",
              " '/content/train/Mask_Chin/327.jpg',\n",
              " '/content/train/Mask_Chin/219.jpg',\n",
              " '/content/train/Mask_Chin/208.jpg',\n",
              " '/content/train/Mask_Chin/444.jpg',\n",
              " '/content/train/Mask_Chin/315.jpg',\n",
              " '/content/train/Mask_Chin/305.jpg',\n",
              " '/content/train/Mask_Chin/378.jpg',\n",
              " '/content/train/Mask_Chin/389.jpg',\n",
              " '/content/train/Mask_Chin/500.jpg',\n",
              " '/content/train/Mask_Chin/151.jpg',\n",
              " '/content/train/Mask_Chin/187.jpg',\n",
              " '/content/train/Mask_Chin/152.jpg',\n",
              " '/content/train/Mask_Chin/476.jpg',\n",
              " '/content/train/Mask_Chin/417.jpg',\n",
              " '/content/train/Mask_Chin/273.jpg',\n",
              " '/content/train/Mask_Chin/408.jpg',\n",
              " '/content/train/Mask_Chin/285.jpg',\n",
              " '/content/train/Mask_Chin/312.jpg',\n",
              " '/content/train/Mask_Chin/215.jpg',\n",
              " '/content/train/Mask_Chin/414.jpg',\n",
              " '/content/train/Mask_Chin/427.jpg',\n",
              " '/content/train/Mask_Chin/380.jpg',\n",
              " '/content/train/Mask_Chin/121.jpg',\n",
              " '/content/train/Mask_Chin/182.jpg',\n",
              " '/content/train/Mask_Chin/412.jpg',\n",
              " '/content/train/Mask_Chin/350.jpg',\n",
              " '/content/train/Mask_Chin/303.jpg',\n",
              " '/content/train/Mask_Chin/459.jpg',\n",
              " '/content/train/Mask_Chin/261.jpg',\n",
              " '/content/train/Mask_Chin/228.jpg',\n",
              " '/content/train/Mask_Chin/362.jpg',\n",
              " '/content/train/Mask_Chin/304.jpg',\n",
              " '/content/train/Mask_Chin/134.jpg',\n",
              " '/content/train/Mask_Chin/478.jpg',\n",
              " '/content/train/Mask_Chin/385.jpg',\n",
              " '/content/train/Mask_Chin/204.jpg',\n",
              " '/content/train/Mask_Chin/101.jpg',\n",
              " '/content/train/Mask_Chin/309.jpg',\n",
              " '/content/train/Mask_Chin/37.jpg',\n",
              " '/content/train/Mask_Chin/222.jpg',\n",
              " '/content/train/Mask_Chin/435.jpg',\n",
              " '/content/train/Mask_Chin/158.jpg',\n",
              " '/content/train/Mask_Chin/38.jpg',\n",
              " '/content/train/Mask_Chin/107.jpg',\n",
              " '/content/train/Mask_Chin/298.jpg',\n",
              " '/content/train/Mask_Chin/469.jpg',\n",
              " '/content/train/Mask_Chin/341.jpg',\n",
              " '/content/train/Mask_Chin/359.jpg',\n",
              " '/content/train/Mask_Chin/117.jpg',\n",
              " '/content/train/Mask_Chin/48.jpg',\n",
              " '/content/train/Mask_Chin/355.jpg',\n",
              " '/content/train/Mask_Chin/415.jpg',\n",
              " '/content/train/Mask_Chin/424.jpg',\n",
              " '/content/train/Mask_Chin/485.jpg',\n",
              " '/content/train/Mask_Chin/221.jpg',\n",
              " '/content/train/Mask_Chin/144.jpg',\n",
              " '/content/train/Mask_Chin/418.jpg',\n",
              " '/content/train/Mask_Chin/280.jpg',\n",
              " '/content/train/Mask_Chin/100.jpg',\n",
              " '/content/train/Mask_Chin/320.jpg',\n",
              " '/content/train/Mask_Chin/356.jpg',\n",
              " '/content/train/Mask_Chin/465.jpg',\n",
              " '/content/train/Mask_Chin/423.jpg',\n",
              " '/content/train/Mask_Chin/419.jpg',\n",
              " '/content/train/Mask_Chin/224.jpg',\n",
              " '/content/train/Mask_Chin/250.jpg',\n",
              " '/content/train/Mask_Chin/322.jpg',\n",
              " '/content/train/Mask_Chin/349.jpg',\n",
              " '/content/train/Mask_Chin/371.jpg',\n",
              " '/content/train/Mask_Chin/199.jpg',\n",
              " '/content/train/Mask_Chin/405.jpg',\n",
              " '/content/train/Mask_Chin/102.jpg',\n",
              " '/content/train/Mask_Chin/445.jpg',\n",
              " '/content/train/Mask_Chin/256.jpg',\n",
              " '/content/train/Mask_Chin/108.jpg',\n",
              " '/content/train/Mask_Chin/163.jpg',\n",
              " '/content/train/Mask_Chin/155.jpg',\n",
              " '/content/train/Mask_Chin/29.jpg',\n",
              " '/content/train/Mask_Chin/426.jpg',\n",
              " '/content/train/Mask_Chin/450.jpg',\n",
              " '/content/train/Mask_Chin/420.jpg',\n",
              " '/content/train/Mask_Chin/148.jpg',\n",
              " '/content/train/Mask_Chin/195.jpg',\n",
              " '/content/train/Mask_Chin/127.jpg',\n",
              " '/content/train/Mask_Chin/436.jpg',\n",
              " '/content/train/Mask_Chin/503.jpg',\n",
              " '/content/train/Mask_Chin/400.jpg',\n",
              " '/content/train/Mask_Chin/282.jpg',\n",
              " '/content/train/Mask_Chin/237.jpg',\n",
              " '/content/train/Mask_Chin/235.jpg',\n",
              " '/content/train/Mask_Chin/307.jpg',\n",
              " '/content/train/Mask_Chin/253.jpg',\n",
              " '/content/train/Mask_Chin/265.jpg',\n",
              " '/content/train/Mask_Chin/241.jpg',\n",
              " '/content/train/Mask_Chin/159.jpg',\n",
              " '/content/train/Mask_Chin/480.jpg',\n",
              " '/content/train/Mask_Chin/308.jpg',\n",
              " '/content/train/Mask_Chin/197.jpg',\n",
              " '/content/train/Mask_Chin/396.jpg',\n",
              " '/content/train/Mask_Chin/505.jpg',\n",
              " '/content/train/Mask_Chin/353.jpg',\n",
              " '/content/train/Mask_Chin/441.jpg',\n",
              " '/content/train/Mask_Chin/411.jpg',\n",
              " '/content/train/Mask_Chin/138.jpg',\n",
              " '/content/train/Mask_Chin/342.jpg',\n",
              " '/content/train/Mask_Chin/430.jpg',\n",
              " '/content/train/Mask_Chin/119.jpg',\n",
              " '/content/train/Mask_Chin/496.jpg',\n",
              " '/content/train/Mask_Chin/368.jpg',\n",
              " '/content/train/Mask_Chin/205.jpg',\n",
              " '/content/train/Mask_Chin/22.jpg',\n",
              " '/content/train/Mask_Chin/314.jpg',\n",
              " '/content/train/Mask_Chin/387.jpg',\n",
              " '/content/train/Mask_Chin/135.jpg',\n",
              " '/content/train/Mask_Chin/407.jpg',\n",
              " '/content/train/Mask_Chin/390.jpg',\n",
              " '/content/train/Mask_Chin/268.jpg',\n",
              " '/content/train/Mask_Chin/186.jpg',\n",
              " '/content/train/Mask_Chin/154.jpg',\n",
              " '/content/train/Mask_Chin/333.jpg',\n",
              " '/content/train/Mask_Chin/103.jpg',\n",
              " '/content/train/Mask_Chin/402.jpg',\n",
              " '/content/train/Mask_Chin/246.jpg',\n",
              " '/content/train/Mask_Chin/317.jpg',\n",
              " '/content/train/Mask_Chin/501.jpg',\n",
              " '/content/train/Mask_Chin/49.jpg',\n",
              " '/content/train/Mask_Chin/466.jpg',\n",
              " '/content/train/Mask_Chin/252.jpg',\n",
              " '/content/train/Mask_Chin/41.jpg',\n",
              " '/content/train/Mask_Chin/502.jpg',\n",
              " '/content/train/Mask_Chin/363.jpg',\n",
              " '/content/train/Mask_Chin/34.jpg',\n",
              " '/content/train/Mask_Chin/404.jpg',\n",
              " '/content/train/Mask_Chin/47.jpg',\n",
              " '/content/train/Mask_Chin/299.jpg',\n",
              " '/content/train/Mask_Chin/258.jpg',\n",
              " '/content/train/Mask_Chin/319.jpg',\n",
              " '/content/train/Mask_Chin/490.jpg',\n",
              " '/content/train/Mask_Chin/482.jpg',\n",
              " '/content/train/Mask_Chin/293.jpg',\n",
              " '/content/train/Mask_Chin/296.jpg',\n",
              " '/content/train/Mask_Chin/367.jpg',\n",
              " '/content/train/Mask_Chin/366.jpg',\n",
              " '/content/train/Mask_Chin/486.jpg',\n",
              " '/content/train/Mask_Chin/42.jpg',\n",
              " '/content/train/Mask_Chin/328.jpg',\n",
              " '/content/train/Mask_Chin/481.jpg',\n",
              " '/content/train/Mask_Chin/149.jpg',\n",
              " '/content/train/Mask_Chin/140.jpg',\n",
              " '/content/train/Mask_Chin/324.jpg',\n",
              " '/content/train/Mask_Chin/467.jpg',\n",
              " '/content/train/Mask_Chin/403.jpg',\n",
              " '/content/train/Mask_Chin/36.jpg',\n",
              " '/content/train/Mask_Chin/232.jpg',\n",
              " '/content/train/Mask_Chin/364.jpg',\n",
              " '/content/train/Mask_Chin/332.jpg',\n",
              " '/content/train/Mask_Chin/190.jpg',\n",
              " '/content/train/Mask_Chin/323.jpg',\n",
              " '/content/train/Mask_Chin/346.jpg',\n",
              " '/content/train/Mask_Chin/428.jpg',\n",
              " '/content/train/Mask_Chin/439.jpg',\n",
              " '/content/train/Mask_Chin/475.jpg',\n",
              " '/content/train/Mask_Chin/259.jpg',\n",
              " '/content/train/Mask_Chin/498.jpg',\n",
              " '/content/train/Mask_Chin/462.jpg',\n",
              " '/content/train/Mask_Chin/438.jpg',\n",
              " '/content/train/Mask_Chin/26.jpg',\n",
              " '/content/train/Mask_Chin/168.jpg',\n",
              " '/content/train/Mask_Chin/248.jpg',\n",
              " '/content/train/Mask_Chin/454.jpg',\n",
              " '/content/train/Mask_Chin/17.jpg',\n",
              " '/content/train/Mask_Chin/5.jpg',\n",
              " '/content/train/Mask_Chin/506.jpg',\n",
              " '/content/train/Mask_Chin/23.jpg',\n",
              " '/content/train/Mask_Chin/347.jpg',\n",
              " '/content/train/Mask_Chin/472.jpg',\n",
              " '/content/train/Mask_Chin/340.jpg',\n",
              " '/content/train/Mask_Chin/225.jpg',\n",
              " '/content/train/Mask_Chin/255.jpg',\n",
              " '/content/train/Mask_Chin/440.jpg',\n",
              " '/content/train/Mask_Chin/109.jpg',\n",
              " '/content/train/Mask_Chin/130.jpg',\n",
              " '/content/train/Mask_Chin/329.jpg',\n",
              " '/content/train/Mask_Chin/132.jpg',\n",
              " '/content/train/Mask_Chin/413.jpg',\n",
              " '/content/train/Mask_Chin/191.jpg',\n",
              " '/content/train/Mask_Chin/113.jpg',\n",
              " '/content/train/Mask_Chin/338.jpg',\n",
              " '/content/train/Mask_Chin/115.jpg',\n",
              " '/content/train/Mask_Chin/202.jpg',\n",
              " '/content/train/Mask_Chin/336.jpg',\n",
              " '/content/train/Mask_Chin/484.jpg',\n",
              " '/content/train/Mask_Chin/288.jpg',\n",
              " '/content/train/Mask_Chin/242.jpg',\n",
              " '/content/train/Mask_Chin/145.jpg',\n",
              " '/content/train/Mask_Chin/398.jpg',\n",
              " '/content/train/Mask_Chin/112.jpg',\n",
              " '/content/train/Mask_Chin/391.jpg',\n",
              " '/content/train/Mask_Chin/0.jpg',\n",
              " '/content/train/Mask_Chin/291.jpg',\n",
              " '/content/train/Mask_Chin/295.jpg',\n",
              " '/content/train/Mask_Chin/421.jpg',\n",
              " '/content/train/Mask_Chin/172.jpg',\n",
              " '/content/train/Mask_Chin/325.jpg',\n",
              " '/content/train/Mask_Chin/3.jpg',\n",
              " '/content/train/Mask_Chin/474.jpg',\n",
              " '/content/train/Mask_Chin/133.jpg',\n",
              " '/content/train/Mask_Chin/272.jpg',\n",
              " '/content/train/Mask_Chin/185.jpg',\n",
              " '/content/train/Mask_Chin/165.jpg',\n",
              " '/content/train/Mask_Chin/383.jpg',\n",
              " '/content/train/Mask_Chin/483.jpg',\n",
              " '/content/train/Mask_Chin/348.jpg',\n",
              " '/content/train/Mask_Chin/479.jpg',\n",
              " '/content/train/Mask_Chin/254.jpg',\n",
              " '/content/train/Mask_Chin/335.jpg',\n",
              " '/content/train/Mask_Chin/345.jpg',\n",
              " '/content/train/Mask_Chin/234.jpg',\n",
              " '/content/train/Mask_Chin/14.jpg',\n",
              " '/content/train/Mask_Chin/488.jpg',\n",
              " '/content/train/Mask_Chin/344.jpg',\n",
              " '/content/train/Mask_Chin/264.jpg',\n",
              " '/content/train/Mask_Chin/146.jpg',\n",
              " '/content/train/Mask_Chin/147.jpg',\n",
              " '/content/train/Mask_Chin/372.jpg',\n",
              " '/content/train/Mask_Chin/139.jpg',\n",
              " '/content/train/Mask_Chin/269.jpg',\n",
              " '/content/train/Mask_Chin/447.jpg',\n",
              " '/content/train/Mask_Chin/294.jpg',\n",
              " '/content/train/Mask_Chin/178.jpg',\n",
              " '/content/train/Mask_Chin/12.jpg',\n",
              " '/content/train/Mask_Chin/477.jpg',\n",
              " '/content/train/Mask_Chin/137.jpg',\n",
              " '/content/train/Mask_Chin/339.jpg',\n",
              " '/content/train/Mask_Chin/292.jpg',\n",
              " '/content/train/Mask_Chin/18.jpg',\n",
              " '/content/train/Mask_Chin/104.jpg',\n",
              " '/content/train/Mask_Chin/251.jpg',\n",
              " '/content/train/Mask_Chin/40.jpg',\n",
              " '/content/train/Mask_Chin/321.jpg',\n",
              " '/content/train/Mask_Chin/39.jpg',\n",
              " '/content/train/Mask_Chin/16.jpg',\n",
              " '/content/train/Mask_Chin/226.jpg',\n",
              " '/content/train/Mask_Chin/260.jpg',\n",
              " '/content/train/Mask_Chin/351.jpg',\n",
              " '/content/train/Mask_Chin/111.jpg',\n",
              " '/content/train/Mask_Chin/116.jpg',\n",
              " '/content/train/Mask_Chin/46.jpg',\n",
              " '/content/train/Mask_Chin/13.jpg',\n",
              " '/content/train/Mask_Chin/257.jpg',\n",
              " '/content/train/Mask_Chin/136.jpg',\n",
              " '/content/train/Mask_Chin/213.jpg',\n",
              " '/content/train/Mask_Chin/290.jpg',\n",
              " '/content/train/Mask_Chin/489.jpg',\n",
              " '/content/train/Mask_Chin/448.jpg',\n",
              " '/content/train/Mask_Chin/262.jpg',\n",
              " '/content/train/Mask_Chin/33.jpg',\n",
              " '/content/train/Mask_Chin/50.jpg',\n",
              " '/content/train/Mask_Chin/196.jpg',\n",
              " '/content/train/Mask_Chin/180.jpg',\n",
              " '/content/train/Mask_Chin/24.jpg',\n",
              " '/content/train/Mask_Chin/35.jpg',\n",
              " '/content/train/Mask_Chin/179.jpg',\n",
              " '/content/train/Mask_Chin/1.jpg',\n",
              " '/content/train/Mask_Chin/316.jpg',\n",
              " '/content/train/Mask_Chin/239.jpg',\n",
              " '/content/train/Mask_Chin/177.jpg',\n",
              " '/content/train/Mask_Chin/43.jpg',\n",
              " '/content/train/Mask_Chin/162.jpg',\n",
              " '/content/train/Mask_Chin/452.jpg',\n",
              " '/content/train/Mask_Chin/194.jpg',\n",
              " '/content/train/Mask_Chin/397.jpg',\n",
              " '/content/train/Mask_Chin/15.jpg',\n",
              " '/content/train/Mask_Chin/198.jpg',\n",
              " '/content/train/Mask_Chin/425.jpg',\n",
              " '/content/train/Mask_Chin/167.jpg',\n",
              " '/content/train/Mask_Chin/284.jpg',\n",
              " '/content/train/Mask_Chin/214.jpg',\n",
              " '/content/train/Mask_Chin/263.jpg',\n",
              " '/content/train/Mask_Chin/443.jpg',\n",
              " '/content/train/Mask_Chin/223.jpg',\n",
              " '/content/train/Mask_Chin/330.jpg',\n",
              " '/content/train/Mask_Chin/283.jpg',\n",
              " '/content/train/Mask_Chin/30.jpg',\n",
              " '/content/train/Mask_Chin/170.jpg',\n",
              " ...]"
            ]
          },
          "metadata": {},
          "execution_count": 5
        }
      ]
    },
    {
      "cell_type": "code",
      "execution_count": 6,
      "metadata": {
        "id": "OFl5PEmU5wrh",
        "outputId": "c772eca6-23e6-407b-9089-bfe1fe75b626",
        "colab": {
          "base_uri": "https://localhost:8080/"
        }
      },
      "outputs": [
        {
          "output_type": "stream",
          "name": "stdout",
          "text": [
            "There are 5 directories and 0 images in 'train'.\n",
            "There are 0 directories and 850 images in 'train/Correct'.\n",
            "There are 0 directories and 827 images in 'train/Without_Mask'.\n",
            "There are 0 directories and 522 images in 'train/Mask_Nose_Mouth'.\n",
            "There are 0 directories and 849 images in 'train/Mask_Mouth_Chin'.\n",
            "There are 0 directories and 850 images in 'train/Mask_Chin'.\n"
          ]
        }
      ],
      "source": [
        "import os\n",
        "\n",
        "# Walk through pizza_steak directory and list number of files\n",
        "for dirpath, dirnames, filenames in os.walk(\"train\"):\n",
        "  print(f\"There are {len(dirnames)} directories and {len(filenames)} images in '{dirpath}'.\")"
      ]
    },
    {
      "cell_type": "code",
      "execution_count": 7,
      "metadata": {
        "id": "lKaYaLYH5wrj",
        "outputId": "91a26eee-e225-48f1-a434-d271b0143de5",
        "colab": {
          "base_uri": "https://localhost:8080/"
        }
      },
      "outputs": [
        {
          "output_type": "stream",
          "name": "stdout",
          "text": [
            "There are 5 directories and 0 images in 'test'.\n",
            "There are 0 directories and 150 images in 'test/Correct'.\n",
            "There are 0 directories and 139 images in 'test/Without_Mask'.\n",
            "There are 0 directories and 93 images in 'test/Mask_Nose_Mouth'.\n",
            "There are 0 directories and 150 images in 'test/Mask_Mouth_Chin'.\n",
            "There are 0 directories and 150 images in 'test/Mask_Chin'.\n"
          ]
        }
      ],
      "source": [
        "import os\n",
        "\n",
        "# Walk through pizza_steak directory and list number of files\n",
        "for dirpath, dirnames, filenames in os.walk(\"test\"):\n",
        "  print(f\"There are {len(dirnames)} directories and {len(filenames)} images in '{dirpath}'.\")"
      ]
    },
    {
      "cell_type": "code",
      "execution_count": 8,
      "metadata": {
        "id": "TJwmHmbp5wrj",
        "outputId": "58a5e74e-1b34-4d5b-85e1-66776321b314",
        "colab": {
          "base_uri": "https://localhost:8080/"
        }
      },
      "outputs": [
        {
          "output_type": "stream",
          "name": "stdout",
          "text": [
            "['Correct' 'Mask_Chin' 'Mask_Mouth_Chin' 'Mask_Nose_Mouth' 'Without_Mask']\n"
          ]
        }
      ],
      "source": [
        "# Get the class names (programmatically, this is much more helpful with a longer list of classes)\n",
        "import pathlib\n",
        "import numpy as np\n",
        "data_dir = pathlib.Path(\"train/\") # turn our training path into a Python path\n",
        "class_names = np.array(sorted([item.name for item in data_dir.glob('*')])) # created a list of class_names from the subdirectories\n",
        "print(class_names)"
      ]
    },
    {
      "cell_type": "code",
      "execution_count": 9,
      "metadata": {
        "id": "LDkCJACY5wrk"
      },
      "outputs": [],
      "source": [
        "# View an image\n",
        "import matplotlib.pyplot as plt\n",
        "import matplotlib.image as mpimg\n",
        "import random\n",
        "\n",
        "def view_random_image(target_dir, target_class):\n",
        "  # Setup target directory (we'll view images from here)\n",
        "  target_folder = target_dir+target_class\n",
        "\n",
        "  # Get a random image path\n",
        "  random_image = random.sample(os.listdir(target_folder), 1)\n",
        "\n",
        "  # Read in the image and plot it using matplotlib\n",
        "  img = mpimg.imread(target_folder + \"/\" + random_image[0])\n",
        "  plt.imshow(img)\n",
        "  plt.title(target_class)\n",
        "  plt.axis(\"off\");\n",
        "\n",
        "  print(f\"Image shape: {img.shape}\") # show the shape of the image\n",
        "\n",
        "  return img"
      ]
    },
    {
      "cell_type": "code",
      "execution_count": 10,
      "metadata": {
        "id": "uDkIiGFZ5wrk",
        "outputId": "3d0ab83b-522d-40a3-891b-246c61b5be4f",
        "colab": {
          "base_uri": "https://localhost:8080/",
          "height": 281
        }
      },
      "outputs": [
        {
          "output_type": "stream",
          "name": "stdout",
          "text": [
            "Image shape: (762, 762)\n"
          ]
        },
        {
          "output_type": "display_data",
          "data": {
            "image/png": "[encoded data removed]",
            "text/plain": [
              "<Figure size 432x288 with 1 Axes>"
            ]
          },
          "metadata": {
            "needs_background": "light"
          }
        }
      ],
      "source": [
        "# View a random image from the training dataset\n",
        "img = view_random_image(target_dir=\"train/\",\n",
        "                        target_class=\"Mask_Nose_Mouth\")"
      ]
    },
    {
      "cell_type": "code",
      "execution_count": 11,
      "metadata": {
        "id": "T6GrTwb75wrl",
        "outputId": "3f6cb86d-c44e-4e1a-d702-e3e1a61e903f",
        "colab": {
          "base_uri": "https://localhost:8080/"
        }
      },
      "outputs": [
        {
          "output_type": "stream",
          "name": "stdout",
          "text": [
            "Found 3898 images belonging to 5 classes.\n",
            "Found 682 images belonging to 5 classes.\n"
          ]
        }
      ],
      "source": [
        "import tensorflow as tf\n",
        "from tensorflow.keras.preprocessing.image import ImageDataGenerator\n",
        "\n",
        "# Set the seed\n",
        "tf.random.set_seed(42)\n",
        "\n",
        "# Preprocess data (get all of the pixel values between 1 and 0, also called scaling/normalization)\n",
        "train_datagen = ImageDataGenerator(rescale=1./255)\n",
        "valid_datagen = ImageDataGenerator(rescale=1./255)\n",
        "\n",
        "# Setup the train and test directories\n",
        "train_dir = \"train/\"\n",
        "test_dir = \"test/\"\n",
        "\n",
        "# Import data from directories and turn it into batches\n",
        "train_data = train_datagen.flow_from_directory(train_dir,\n",
        "                                               batch_size=32, # number of images to process at a time \n",
        "                                               target_size=(224, 224), # convert all images to be 224 x 224\n",
        "                                               class_mode=\"categorical\", # type of problem we're working on\n",
        "                                               seed=42)\n",
        "\n",
        "valid_data = valid_datagen.flow_from_directory(test_dir,\n",
        "                                               batch_size=32,\n",
        "                                               target_size=(224, 224),\n",
        "                                               class_mode=\"categorical\",\n",
        "                                               seed=42)\n",
        "\n",
        "# Create a CNN model (same as Tiny VGG - https://poloclub.github.io/cnn-explainer/)\n"
      ]
    },
    {
      "cell_type": "code",
      "execution_count": 12,
      "metadata": {
        "id": "_4YA3X7Y5wrl",
        "outputId": "ea837d2d-7b93-4901-8018-9fa9c5ee3877",
        "colab": {
          "base_uri": "https://localhost:8080/"
        }
      },
      "outputs": [
        {
          "output_type": "stream",
          "name": "stdout",
          "text": [
            "Epoch 1/5\n",
            "122/122 [==============================] - 34s 154ms/step - loss: 0.5996 - accuracy: 0.7771 - val_loss: 0.1617 - val_accuracy: 0.9384\n",
            "Epoch 2/5\n",
            "122/122 [==============================] - 18s 149ms/step - loss: 0.0873 - accuracy: 0.9736 - val_loss: 0.1131 - val_accuracy: 0.9663\n",
            "Epoch 3/5\n",
            "122/122 [==============================] - 18s 150ms/step - loss: 0.0372 - accuracy: 0.9908 - val_loss: 0.1627 - val_accuracy: 0.9487\n",
            "Epoch 4/5\n",
            "122/122 [==============================] - 18s 149ms/step - loss: 0.0178 - accuracy: 0.9959 - val_loss: 0.1635 - val_accuracy: 0.9531\n",
            "Epoch 5/5\n",
            "122/122 [==============================] - 18s 149ms/step - loss: 0.0092 - accuracy: 0.9979 - val_loss: 0.1423 - val_accuracy: 0.9604\n"
          ]
        }
      ],
      "source": [
        "model_1 = tf.keras.models.Sequential([\n",
        "  tf.keras.layers.Conv2D(filters=10, \n",
        "                         kernel_size=3, # can also be (3, 3)\n",
        "                         activation=\"relu\", \n",
        "                         input_shape=(224, 224,3)), # first layer specifies input shape (height, width, colour channels)\n",
        "  tf.keras.layers.Conv2D(10, 3, activation=\"relu\"),\n",
        "  tf.keras.layers.MaxPool2D(pool_size=2, # pool_size can also be (2, 2)\n",
        "                            padding=\"valid\"), # padding can also be 'same'\n",
        "  tf.keras.layers.Conv2D(10, 3, activation=\"relu\"),\n",
        "  tf.keras.layers.Conv2D(10, 3, activation=\"relu\"), # activation='relu' == tf.keras.layers.Activations(tf.nn.relu)\n",
        "  tf.keras.layers.MaxPool2D(2),\n",
        "  tf.keras.layers.Flatten(),\n",
        "  tf.keras.layers.Dense(5, activation=\"softmax\") # activation output\n",
        "])\n",
        "\n",
        "# Compile the model\n",
        "model_1.compile(loss=\"categorical_crossentropy\",\n",
        "              optimizer=tf.keras.optimizers.Adam(),\n",
        "              metrics=[\"accuracy\"])\n",
        "\n",
        "# Fit the model\n",
        "history_1 = model_1.fit(train_data,\n",
        "                        epochs=5,\n",
        "                        steps_per_epoch=len(train_data),\n",
        "                        validation_data=valid_data,\n",
        "                        validation_steps=len(valid_data))"
      ]
    },
    {
      "cell_type": "code",
      "source": [
        "model_1.save(\"model1.h5\")\n",
        "\n"
      ],
      "metadata": {
        "id": "mi5cqO1K8wSd"
      },
      "execution_count": 13,
      "outputs": []
    },
    {
      "cell_type": "markdown",
      "metadata": {
        "id": "-1vwmv125wrm"
      },
      "source": [
        "## Data augmentation"
      ]
    },
    {
      "cell_type": "code",
      "execution_count": 14,
      "metadata": {
        "id": "5gBXOKQP5wrm"
      },
      "outputs": [],
      "source": [
        "from tensorflow.keras import layers\n",
        "from tensorflow.keras.layers.experimental import preprocessing\n",
        "from tensorflow.keras.models import Sequential\n",
        "\n",
        "# Setup data augmentation\n",
        "data_augmentation = Sequential([\n",
        "  preprocessing.RandomFlip(\"vertical\"), # randomly flip images\n",
        "  preprocessing.RandomRotation(0.2), # randomly rotate images by a specific amount\n",
        "  preprocessing.RandomHeight(0.2), # randomly adjust the height of an image by a specific amount\n",
        "  preprocessing.RandomWidth(0.2), # randomly adjust the width of an image by a specific amount\n",
        "  preprocessing.RandomZoom(0.2), # randomly zoom into an image\n",
        "  # preprocessing.Rescaling(255) # keep for models like ResNet50V2, remove for EfficientNet\n",
        "], name=\"data_augmentation\")"
      ]
    },
    {
      "cell_type": "markdown",
      "metadata": {
        "id": "zB7-BGtR5wrn"
      },
      "source": [
        "## Transfer learning 1"
      ]
    },
    {
      "cell_type": "code",
      "execution_count": 15,
      "metadata": {
        "id": "ZwSU3VTz5wrn",
        "outputId": "bbff7250-1ed4-42b5-e5e1-36e1400dad7f",
        "colab": {
          "base_uri": "https://localhost:8080/"
        }
      },
      "outputs": [
        {
          "output_type": "execute_result",
          "data": {
            "text/plain": [
              "5"
            ]
          },
          "metadata": {},
          "execution_count": 15
        }
      ],
      "source": [
        "len(class_names)"
      ]
    },
    {
      "cell_type": "code",
      "execution_count": 16,
      "metadata": {
        "id": "x3Ow92Hs5wrn",
        "outputId": "da57ca04-9599-4a44-ab28-a6f804edc9bd",
        "colab": {
          "base_uri": "https://localhost:8080/"
        }
      },
      "outputs": [
        {
          "output_type": "stream",
          "name": "stdout",
          "text": [
            "Found 3898 images belonging to 5 classes.\n",
            "Found 682 images belonging to 5 classes.\n"
          ]
        }
      ],
      "source": [
        "# Set the seed\n",
        "tf.random.set_seed(42)\n",
        "\n",
        "# Preprocess data (get all of the pixel values between 1 and 0, also called scaling/normalization)\n",
        "# train_datagen = ImageDataGenerator(rescale=1./255)\n",
        "# valid_datagen = ImageDataGenerator(rescale=1./255)\n",
        "\n",
        "train_datagen = ImageDataGenerator()\n",
        "valid_datagen = ImageDataGenerator()\n",
        "\n",
        "# Setup the train and test directories\n",
        "train_dir = \"train/\"\n",
        "test_dir = \"test/\"\n",
        "\n",
        "# Import data from directories and turn it into batches\n",
        "train_data = train_datagen.flow_from_directory(train_dir,\n",
        "                                               batch_size=32, # number of images to process at a time \n",
        "                                               target_size=(224, 224), # convert all images to be 224 x 224\n",
        "                                               class_mode=\"categorical\", # type of problem we're working on\n",
        "                                               seed=42)\n",
        "\n",
        "valid_data = valid_datagen.flow_from_directory(test_dir,\n",
        "                                               batch_size=32,\n",
        "                                               target_size=(224, 224),\n",
        "                                               class_mode=\"categorical\",\n",
        "                                               seed=42)"
      ]
    },
    {
      "cell_type": "code",
      "execution_count": 17,
      "metadata": {
        "id": "FH-oqKbA5wro",
        "outputId": "3bf58e97-0582-471a-cf78-3382da97f462",
        "colab": {
          "base_uri": "https://localhost:8080/"
        }
      },
      "outputs": [
        {
          "output_type": "stream",
          "name": "stdout",
          "text": [
            "Downloading data from https://storage.googleapis.com/keras-applications/efficientnetb0_notop.h5\n",
            "16711680/16705208 [==============================] - 1s 0us/step\n",
            "16719872/16705208 [==============================] - 1s 0us/step\n"
          ]
        }
      ],
      "source": [
        "# Setup base model and freeze its layers (this will extract features)\n",
        "base_model = tf.keras.applications.EfficientNetB0(include_top=False)\n",
        "base_model.trainable = False\n",
        "\n",
        "# Setup model architecture with trainable top layers\n",
        "inputs = layers.Input(shape=(224, 224, 3), name=\"input_layer\") # shape of input image\n",
        "x = data_augmentation(inputs) # augment images (only happens during training)\n",
        "# x=inputs\n",
        "x = base_model(x, training=False) # put the base model in inference mode so we can use it to extract features without updating the weights\n",
        "x = layers.GlobalAveragePooling2D(name=\"global_average_pooling\")(x) # pool the outputs of the base model\n",
        "outputs = layers.Dense(len(class_names), activation=\"softmax\", name=\"output_layer\")(x) # same number of outputs as classes\n",
        "model2 = tf.keras.Model(inputs, outputs)"
      ]
    },
    {
      "cell_type": "code",
      "execution_count": 18,
      "metadata": {
        "id": "VjBdtpa-5wro",
        "outputId": "8885bd89-e63f-44eb-8c4c-956d8d4d0ce1",
        "colab": {
          "base_uri": "https://localhost:8080/"
        }
      },
      "outputs": [
        {
          "output_type": "stream",
          "name": "stdout",
          "text": [
            "Epoch 1/5\n",
            "122/122 [==============================] - 47s 339ms/step - loss: 0.6984 - accuracy: 0.7891 - val_loss: 0.4408 - val_accuracy: 0.8607\n",
            "Epoch 2/5\n",
            "122/122 [==============================] - 33s 272ms/step - loss: 0.3240 - accuracy: 0.9153 - val_loss: 0.3127 - val_accuracy: 0.9062\n",
            "Epoch 3/5\n",
            "122/122 [==============================] - 29s 232ms/step - loss: 0.2523 - accuracy: 0.9292 - val_loss: 0.2665 - val_accuracy: 0.9238\n",
            "Epoch 4/5\n",
            "122/122 [==============================] - 27s 219ms/step - loss: 0.2130 - accuracy: 0.9420 - val_loss: 0.2498 - val_accuracy: 0.9282\n",
            "Epoch 5/5\n",
            "122/122 [==============================] - 27s 218ms/step - loss: 0.1865 - accuracy: 0.9474 - val_loss: 0.2242 - val_accuracy: 0.9340\n"
          ]
        }
      ],
      "source": [
        "# Compile\n",
        "model2.compile(loss=\"categorical_crossentropy\",\n",
        "              optimizer=tf.keras.optimizers.Adam(), # use Adam with default settings\n",
        "              metrics=[\"accuracy\"])\n",
        "\n",
        "# Fit\n",
        "history_model2 = model2.fit(train_data,\n",
        "                                           epochs=5, # fit for 5 epochs to keep experiments quick\n",
        "                                           validation_data=valid_data,\n",
        "                                           validation_steps=int(len(valid_data)))"
      ]
    },
    {
      "cell_type": "code",
      "source": [
        "model2.save(\"model2.h5\")"
      ],
      "metadata": {
        "id": "ZEFef3vw9LZr",
        "outputId": "fb6013d9-656f-484a-9fcb-0597c4896842",
        "colab": {
          "base_uri": "https://localhost:8080/"
        }
      },
      "execution_count": 20,
      "outputs": [
        {
          "output_type": "stream",
          "name": "stderr",
          "text": [
            "/usr/local/lib/python3.7/dist-packages/keras/engine/functional.py:1410: CustomMaskWarning: Custom mask layers require a config and must override get_config. When loading, the custom mask layer must be passed to the custom_objects argument.\n",
            "  layer_config = serialize_layer_fn(layer)\n"
          ]
        }
      ]
    },
    {
      "cell_type": "code",
      "execution_count": 24,
      "metadata": {
        "id": "RUx9toZe5wro"
      },
      "outputs": [],
      "source": [
        "initial_epoch=5\n",
        "\n",
        "base_model.trainable = True\n",
        "\n",
        "# Freeze all layers except for the\n",
        "for layer in base_model.layers[:-10]:\n",
        "  layer.trainable = False\n",
        "\n",
        "# Recompile the model (always recompile after any adjustments to a model)\n",
        "model2.compile(loss=\"categorical_crossentropy\",\n",
        "              optimizer=tf.keras.optimizers.Adam(learning_rate=0.00001), # lr is 10x lower than before for fine-tuning\n",
        "              metrics=[\"accuracy\"])"
      ]
    },
    {
      "cell_type": "code",
      "execution_count": 25,
      "metadata": {
        "id": "M2rHYXbE5wrp",
        "outputId": "c977bb24-5e80-45db-89ac-16d49662afcc",
        "colab": {
          "base_uri": "https://localhost:8080/"
        }
      },
      "outputs": [
        {
          "output_type": "stream",
          "name": "stdout",
          "text": [
            "Epoch 6/10\n",
            "122/122 [==============================] - 30s 202ms/step - loss: 0.0363 - accuracy: 0.9872 - val_loss: 0.1887 - val_accuracy: 0.9384\n",
            "Epoch 7/10\n",
            "122/122 [==============================] - 23s 192ms/step - loss: 0.0369 - accuracy: 0.9861 - val_loss: 0.1818 - val_accuracy: 0.9384\n",
            "Epoch 8/10\n",
            "122/122 [==============================] - 23s 187ms/step - loss: 0.0388 - accuracy: 0.9864 - val_loss: 0.1882 - val_accuracy: 0.9370\n",
            "Epoch 9/10\n",
            "122/122 [==============================] - 23s 190ms/step - loss: 0.0362 - accuracy: 0.9890 - val_loss: 0.1890 - val_accuracy: 0.9428\n",
            "Epoch 10/10\n",
            "122/122 [==============================] - 22s 179ms/step - loss: 0.0305 - accuracy: 0.9908 - val_loss: 0.2143 - val_accuracy: 0.9355\n"
          ]
        }
      ],
      "source": [
        "history3=model2.fit(train_data,\n",
        "            epochs=initial_epoch +5,\n",
        "            validation_data=valid_data,\n",
        "            initial_epoch=initial_epoch)"
      ]
    },
    {
      "cell_type": "code",
      "execution_count": 26,
      "metadata": {
        "id": "yjN1OQl05wrp",
        "outputId": "061d36df-4258-4486-e4d5-b806d1015c32",
        "colab": {
          "base_uri": "https://localhost:8080/"
        }
      },
      "outputs": [
        {
          "output_type": "stream",
          "name": "stderr",
          "text": [
            "/usr/local/lib/python3.7/dist-packages/keras/engine/functional.py:1410: CustomMaskWarning: Custom mask layers require a config and must override get_config. When loading, the custom mask layer must be passed to the custom_objects argument.\n",
            "  layer_config = serialize_layer_fn(layer)\n"
          ]
        }
      ],
      "source": [
        "# model_1.save(\"model1.h5\")\n",
        "model2.save(\"model3.h5\")\n"
      ]
    },
    {
      "cell_type": "code",
      "source": [
        "# Setup base model and freeze its layers (this will extract features)\n",
        "base_model = tf.keras.applications.EfficientNetB0(include_top=False)\n",
        "base_model.trainable = False\n",
        "\n",
        "# Setup model architecture with trainable top layers\n",
        "inputs = layers.Input(shape=(224, 224, 3), name=\"input_layer\") # shape of input image\n",
        "# x = data_augmentation(inputs) # augment images (only happens during training)\n",
        "x=inputs\n",
        "x = base_model(x, training=False) # put the base model in inference mode so we can use it to extract features without updating the weights\n",
        "x = layers.GlobalAveragePooling2D(name=\"global_average_pooling\")(x) # pool the outputs of the base model\n",
        "outputs = layers.Dense(len(class_names), activation=\"softmax\", name=\"output_layer\")(x) # same number of outputs as classes\n",
        "model3 = tf.keras.Model(inputs, outputs)"
      ],
      "metadata": {
        "id": "0tACJpQ0CKAI"
      },
      "execution_count": 32,
      "outputs": []
    },
    {
      "cell_type": "code",
      "source": [
        "# Compile\n",
        "model3.compile(loss=\"categorical_crossentropy\",\n",
        "              optimizer=tf.keras.optimizers.Adam(), # use Adam with default settings\n",
        "              metrics=[\"accuracy\"])\n",
        "\n",
        "# Fit\n",
        "history_model3 = model3.fit(train_data,\n",
        "                                           epochs=5, # fit for 5 epochs to keep experiments quick\n",
        "                                           validation_data=valid_data,\n",
        "                                           validation_steps=int(len(valid_data)))"
      ],
      "metadata": {
        "id": "il0Hys70CRFE",
        "outputId": "b817e2a8-bf54-499c-8d1f-7adebd7c6482",
        "colab": {
          "base_uri": "https://localhost:8080/"
        }
      },
      "execution_count": 33,
      "outputs": [
        {
          "output_type": "stream",
          "name": "stdout",
          "text": [
            "Epoch 1/5\n",
            "122/122 [==============================] - 25s 169ms/step - loss: 0.3878 - accuracy: 0.9130 - val_loss: 0.1727 - val_accuracy: 0.9604\n",
            "Epoch 2/5\n",
            "122/122 [==============================] - 19s 158ms/step - loss: 0.1081 - accuracy: 0.9800 - val_loss: 0.1102 - val_accuracy: 0.9707\n",
            "Epoch 3/5\n",
            "122/122 [==============================] - 19s 157ms/step - loss: 0.0698 - accuracy: 0.9869 - val_loss: 0.0868 - val_accuracy: 0.9736\n",
            "Epoch 4/5\n",
            "122/122 [==============================] - 19s 158ms/step - loss: 0.0516 - accuracy: 0.9900 - val_loss: 0.0741 - val_accuracy: 0.9780\n",
            "Epoch 5/5\n",
            "122/122 [==============================] - 19s 158ms/step - loss: 0.0413 - accuracy: 0.9918 - val_loss: 0.0691 - val_accuracy: 0.9795\n"
          ]
        }
      ]
    },
    {
      "cell_type": "code",
      "source": [
        "model3.save(\"model3a.h5\")"
      ],
      "metadata": {
        "id": "h9sEqHiiCzY_",
        "outputId": "27191470-90da-49ce-c292-bc22a06bb12c",
        "colab": {
          "base_uri": "https://localhost:8080/"
        }
      },
      "execution_count": 34,
      "outputs": [
        {
          "output_type": "stream",
          "name": "stderr",
          "text": [
            "/usr/local/lib/python3.7/dist-packages/keras/engine/functional.py:1410: CustomMaskWarning: Custom mask layers require a config and must override get_config. When loading, the custom mask layer must be passed to the custom_objects argument.\n",
            "  layer_config = serialize_layer_fn(layer)\n"
          ]
        }
      ]
    },
    {
      "cell_type": "code",
      "source": [
        "# Plot the training curves\n",
        "import pandas as pd\n",
        "pd.DataFrame(history_1.history).plot(figsize=(10, 7));"
      ],
      "metadata": {
        "id": "XeO3E3U2BVie",
        "outputId": "b9b0a3ff-7e05-493f-ec87-e00514d4401a",
        "colab": {
          "base_uri": "https://localhost:8080/",
          "height": 428
        }
      },
      "execution_count": 27,
      "outputs": [
        {
          "output_type": "display_data",
          "data": {
            "image/png": "[encoded data removed]",
            "text/plain": [
              "<Figure size 720x504 with 1 Axes>"
            ]
          },
          "metadata": {
            "needs_background": "light"
          }
        }
      ]
    },
    {
      "cell_type": "code",
      "source": [
        "\n",
        "pd.DataFrame(history_model2.history).plot(figsize=(10, 7));"
      ],
      "metadata": {
        "id": "FFGRpT_2BZaX",
        "outputId": "5eae6142-0f9e-4995-9154-ea04ce53105f",
        "colab": {
          "base_uri": "https://localhost:8080/",
          "height": 428
        }
      },
      "execution_count": 30,
      "outputs": [
        {
          "output_type": "display_data",
          "data": {
            "image/png": "[encoded data removed]",
            "text/plain": [
              "<Figure size 720x504 with 1 Axes>"
            ]
          },
          "metadata": {
            "needs_background": "light"
          }
        }
      ]
    },
    {
      "cell_type": "code",
      "source": [
        "pd.DataFrame(history3.history).plot(figsize=(10, 7));"
      ],
      "metadata": {
        "id": "e2SYu7eMBl5G",
        "outputId": "298089d7-9c90-4aaf-f0e3-4cf435a62579",
        "colab": {
          "base_uri": "https://localhost:8080/",
          "height": 428
        }
      },
      "execution_count": 31,
      "outputs": [
        {
          "output_type": "display_data",
          "data": {
            "image/png": "[encoded data removed]",
            "text/plain": [
              "<Figure size 720x504 with 1 Axes>"
            ]
          },
          "metadata": {
            "needs_background": "light"
          }
        }
      ]
    },
    {
      "cell_type": "code",
      "source": [
        "pd.DataFrame(history_model3.history).plot(figsize=(10, 7));"
      ],
      "metadata": {
        "id": "YONhUPHTDDEt",
        "outputId": "785dafaa-2343-45fc-bb0a-562ae5c0042e",
        "colab": {
          "base_uri": "https://localhost:8080/",
          "height": 428
        }
      },
      "execution_count": 35,
      "outputs": [
        {
          "output_type": "display_data",
          "data": {
            "image/png": "[encoded data removed]",
            "text/plain": [
              "<Figure size 720x504 with 1 Axes>"
            ]
          },
          "metadata": {
            "needs_background": "light"
          }
        }
      ]
    }
  ],
  "metadata": {
    "interpreter": {
      "hash": "45c35a36beb3d1c2f42a56be9142246513f9d24015e8e4e22f7c95d5b06ff02e"
    },
    "kernelspec": {
      "display_name": "Python 3.7.11 64-bit ('tutorialspoint': conda)",
      "language": "python",
      "name": "python3"
    },
    "language_info": {
      "codemirror_mode": {
        "name": "ipython",
        "version": 3
      },
      "file_extension": ".py",
      "mimetype": "text/x-python",
      "name": "python",
      "nbconvert_exporter": "python",
      "pygments_lexer": "ipython3",
      "version": "3.7.11"
    },
    "orig_nbformat": 4,
    "colab": {
      "name": "cnn1.ipynb",
      "provenance": [],
      "include_colab_link": true
    },
    "accelerator": "GPU"
  },
  "nbformat": 4,
  "nbformat_minor": 0
}